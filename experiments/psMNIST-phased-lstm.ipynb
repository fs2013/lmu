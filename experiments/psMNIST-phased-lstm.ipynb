{
 "cells": [
  {
   "cell_type": "code",
   "execution_count": 1,
   "metadata": {},
   "outputs": [],
   "source": [
    "%matplotlib inline"
   ]
  },
  {
   "cell_type": "code",
   "execution_count": 2,
   "metadata": {},
   "outputs": [],
   "source": [
    "# Uses the exact data set and permutation from the psMNIST task in\n",
    "# Towards Non-saturating Recurrent Units for Modelling Long-term Dependencies\n",
    "# https://github.com/apsarath/NRU/\n",
    "\n",
    "import os\n",
    "import sys\n",
    "\n",
    "nru_path = os.path.abspath(\"../nru/nru_project\")\n",
    "sys.path.append(nru_path)"
   ]
  },
  {
   "cell_type": "code",
   "execution_count": 3,
   "metadata": {},
   "outputs": [],
   "source": [
    "import numpy as np\n",
    "\n",
    "from utils.utils import create_config\n",
    "from train import get_data_iterator\n",
    "\n",
    "try:\n",
    "    cwd = os.getcwd()\n",
    "    os.chdir(nru_path)  # needed to load parent config/default.yaml\n",
    "    os.environ[\"PROJ_SAVEDIR\"] = \"/tmp/\"  # this shouldn't do anything\n",
    "    config = create_config(os.path.join(nru_path, \"config/nru.yaml\"))\n",
    "    \n",
    "finally:\n",
    "    os.chdir(cwd)"
   ]
  },
  {
   "cell_type": "code",
   "execution_count": 4,
   "metadata": {},
   "outputs": [
    {
     "name": "stdout",
     "output_type": "stream",
     "text": [
      "(50000, 784, 1) (50000,)\n",
      "(10000, 784, 1) (10000,)\n",
      "(10000, 784, 1) (10000,)\n"
     ]
    }
   ],
   "source": [
    "padded_length = 785\n",
    "batch_size = 100\n",
    "\n",
    "mask_check = np.zeros((padded_length, batch_size))\n",
    "mask_check[-1, :] = 1\n",
    "\n",
    "from collections import defaultdict\n",
    "X = defaultdict(list)\n",
    "Y = defaultdict(list)\n",
    "\n",
    "gen = get_data_iterator(config)  # uses a fixed data seed\n",
    "for tag in (\"train\", \"valid\", \"test\"):\n",
    "    while True:\n",
    "        data = gen.next(tag)\n",
    "        if data is None:\n",
    "            break\n",
    "\n",
    "        assert data['x'].shape == (padded_length, batch_size, 1)\n",
    "        assert data['y'].shape == data['mask'].shape == (padded_length, batch_size)\n",
    "        assert np.all(data['mask'] == mask_check)\n",
    "        \n",
    "        assert np.all(data['x'][-1, :, :] == 0)\n",
    "        X[tag].extend(data['x'][:-1, :, :].transpose(1, 0, 2))\n",
    "        \n",
    "        assert np.all(data['y'][:-1, :] == 0)\n",
    "        Y[tag].extend(data['y'][-1, :])\n",
    "\n",
    "X_train = np.asarray(X[\"train\"])\n",
    "X_valid = np.asarray(X[\"valid\"])\n",
    "X_test = np.asarray(X[\"test\"])\n",
    "\n",
    "Y_train = np.asarray(Y[\"train\"])\n",
    "Y_valid = np.asarray(Y[\"valid\"])\n",
    "Y_test = np.asarray(Y[\"test\"])\n",
    "\n",
    "print(X_train.shape, Y_train.shape)\n",
    "print(X_valid.shape, Y_valid.shape)\n",
    "print(X_test.shape, Y_test.shape)"
   ]
  },
  {
   "cell_type": "code",
   "execution_count": 5,
   "metadata": {},
   "outputs": [
    {
     "data": {
      "image/png": "[encoded data removed]",
      "text/plain": [
       "<Figure size 432x288 with 2 Axes>"
      ]
     },
     "metadata": {
      "needs_background": "light"
     },
     "output_type": "display_data"
    }
   ],
   "source": [
    "import matplotlib.pyplot as plt\n",
    "import seaborn as sns\n",
    "\n",
    "plt.subplot(111)\n",
    "plt.title(\"Digit = %d\" % Y_train[1])\n",
    "plt.imshow(X_train[1].reshape(28, 28))\n",
    "plt.colorbar()\n",
    "plt.show()"
   ]
  },
  {
   "cell_type": "code",
   "execution_count": 6,
   "metadata": {},
   "outputs": [
    {
     "name": "stderr",
     "output_type": "stream",
     "text": [
      "Using TensorFlow backend.\n"
     ]
    }
   ],
   "source": [
    "from keras.callbacks import EarlyStopping, ModelCheckpoint, CSVLogger\n",
    "from keras.layers.core import Dense\n",
    "from keras.layers.recurrent import RNN\n",
    "from keras.models import Sequential, Model\n",
    "from keras.initializers import Constant\n",
    "from keras.utils import multi_gpu_model, to_categorical"
   ]
  },
  {
   "cell_type": "code",
   "execution_count": 7,
   "metadata": {},
   "outputs": [],
   "source": [
    "seed = 0  # to help with reproducibility\n",
    "\n",
    "from tensorflow import set_random_seed\n",
    "set_random_seed(seed=seed)\n",
    "np.random.seed(seed=seed)"
   ]
  },
  {
   "cell_type": "markdown",
   "metadata": {},
   "source": [
    "LMU parameters\n",
    "\n",
    "```\n",
    "_________________________________________________________________\n",
    "Layer (type)                 Output Shape              Param #   \n",
    "=================================================================\n",
    "rnn_1 (RNN)                  (None, 212)               165689    \n",
    "_________________________________________________________________\n",
    "dense_1 (Dense)              (None, 10)                2130      \n",
    "=================================================================\n",
    "Total params: 167,819\n",
    "Trainable params: 102,027\n",
    "Non-trainable params: 65,792\n",
    "_________________________________________________________________\n",
    "```"
   ]
  },
  {
   "cell_type": "code",
   "execution_count": 8,
   "metadata": {},
   "outputs": [],
   "source": [
    "n_pixels = padded_length - 1\n",
    "assert n_pixels == 28**2"
   ]
  },
  {
   "cell_type": "code",
   "execution_count": 10,
   "metadata": {},
   "outputs": [],
   "source": [
    "from phased_lstm_keras.PhasedLSTM import PhasedLSTM as PLSTM"
   ]
  },
  {
   "cell_type": "code",
   "execution_count": 43,
   "metadata": {
    "scrolled": false
   },
   "outputs": [
    {
     "name": "stdout",
     "output_type": "stream",
     "text": [
      "_________________________________________________________________\n",
      "Layer (type)                 Output Shape              Param #   \n",
      "=================================================================\n",
      "phased_lstm_28 (PhasedLSTM)  (None, 200)               162200    \n",
      "_________________________________________________________________\n",
      "dense_28 (Dense)             (None, 10)                2010      \n",
      "=================================================================\n",
      "Total params: 164,210\n",
      "Trainable params: 164,210\n",
      "Non-trainable params: 0\n",
      "_________________________________________________________________\n",
      "Train on 50000 samples, validate on 10000 samples\n",
      "Epoch 1/10\n",
      "50000/50000 [==============================] - 971s 19ms/step - loss: 1.0911 - acc: 0.6018 - val_loss: 0.5815 - val_acc: 0.8170\n",
      "\n",
      "Epoch 00001: val_loss improved from inf to 0.58153, saving model to ../models/psMNIST-plstm.hdf5\n",
      "Epoch 2/10\n",
      "50000/50000 [==============================] - 964s 19ms/step - loss: 0.5034 - acc: 0.8387 - val_loss: 0.4663 - val_acc: 0.8496\n",
      "\n",
      "Epoch 00002: val_loss improved from 0.58153 to 0.46631, saving model to ../models/psMNIST-plstm.hdf5\n",
      "Epoch 3/10\n",
      "50000/50000 [==============================] - 964s 19ms/step - loss: 0.3886 - acc: 0.8785 - val_loss: 0.3525 - val_acc: 0.8876\n",
      "\n",
      "Epoch 00003: val_loss improved from 0.46631 to 0.35251, saving model to ../models/psMNIST-plstm.hdf5\n",
      "Epoch 4/10\n",
      "50000/50000 [==============================] - 965s 19ms/step - loss: nan - acc: 0.8781 - val_loss: nan - val_acc: 0.0981\n",
      "\n",
      "Epoch 00004: val_loss did not improve from 0.35251\n",
      "Epoch 5/10\n",
      "50000/50000 [==============================] - 965s 19ms/step - loss: nan - acc: 0.0988 - val_loss: nan - val_acc: 0.0981\n",
      "\n",
      "Epoch 00005: val_loss did not improve from 0.35251\n",
      "Epoch 6/10\n",
      "50000/50000 [==============================] - 965s 19ms/step - loss: nan - acc: 0.0988 - val_loss: nan - val_acc: 0.0981\n",
      "\n",
      "Epoch 00006: val_loss did not improve from 0.35251\n",
      "Epoch 7/10\n",
      "50000/50000 [==============================] - 965s 19ms/step - loss: nan - acc: 0.0988 - val_loss: nan - val_acc: 0.0981\n",
      "\n",
      "Epoch 00007: val_loss did not improve from 0.35251\n",
      "Epoch 8/10\n",
      "50000/50000 [==============================] - 964s 19ms/step - loss: nan - acc: 0.0988 - val_loss: nan - val_acc: 0.0981\n",
      "\n",
      "Epoch 00008: val_loss did not improve from 0.35251\n",
      "Took 128.83 min\n"
     ]
    }
   ],
   "source": [
    "import time\n",
    "\n",
    "model = Sequential()\n",
    "model.add(PLSTM(200, input_shape=(n_pixels, 1), \n",
    "                implementation=0,\n",
    "               alpha=0.0001)\n",
    "         )\n",
    "model.add(Dense(10, activation='softmax'))\n",
    "model.compile(optimizer='adam', loss='categorical_crossentropy',\n",
    "                        metrics=['accuracy'])\n",
    "model.summary()\n",
    "\n",
    "epochs = 10\n",
    "fname = \"../models/psMNIST-plstm.hdf5\"\n",
    "\n",
    "callbacks = [\n",
    "    #CSVLogger('log-psmnist-plstm-270719.csv', append=True, separator=';'),\n",
    "    EarlyStopping(monitor='val_loss', min_delta=1e-6, patience=5),\n",
    "    ModelCheckpoint(filepath=fname, monitor='val_loss', verbose=1, save_best_only=True),\n",
    "]\n",
    "\n",
    "t = time.time()\n",
    "\n",
    "n_samples = None\n",
    "result = model.fit(\n",
    "    X_train[:n_samples],\n",
    "    to_categorical(Y_train[:n_samples]),\n",
    "    epochs=epochs,\n",
    "    batch_size=batch_size,\n",
    "    validation_data=(X_valid[:n_samples], to_categorical(Y_valid)[:n_samples]),\n",
    "    callbacks=callbacks,\n",
    ")\n",
    "\n",
    "print(\"Took {:.2f} min\".format((time.time() - t) / 60))"
   ]
  },
  {
   "cell_type": "code",
   "execution_count": 44,
   "metadata": {},
   "outputs": [
    {
     "data": {
      "image/png": "[encoded data removed]",
      "text/plain": [
       "<Figure size 432x288 with 1 Axes>"
      ]
     },
     "metadata": {
      "needs_background": "light"
     },
     "output_type": "display_data"
    }
   ],
   "source": [
    "plt.figure()\n",
    "plt.plot(result.history['val_acc'], label=\"Validation\")\n",
    "plt.plot(result.history['acc'], label=\"Training\")\n",
    "plt.legend()\n",
    "plt.xlabel(\"Epoch\")\n",
    "plt.ylabel(\"Accuracy\")\n",
    "plt.title(\"psMNIST - phased LSTM\")\n",
    "plt.show()"
   ]
  },
  {
   "cell_type": "code",
   "execution_count": null,
   "metadata": {},
   "outputs": [],
   "source": [
    "saved_epoch = np.argmin(result.history['val_loss'])\n",
    "result.history['val_acc'][saved_epoch]"
   ]
  },
  {
   "cell_type": "code",
   "execution_count": 45,
   "metadata": {},
   "outputs": [
    {
     "name": "stdout",
     "output_type": "stream",
     "text": [
      "10000/10000 [==============================] - 78s 8ms/step\n"
     ]
    },
    {
     "data": {
      "text/plain": [
       "[0.331656537681818, 0.8961]"
      ]
     },
     "execution_count": 45,
     "metadata": {},
     "output_type": "execute_result"
    }
   ],
   "source": [
    "model.load_weights(fname)  # load best weights\n",
    "model.evaluate(X_test, to_categorical(Y_test))"
   ]
  }
 ],
 "metadata": {
  "kernelspec": {
   "display_name": "Python 3",
   "language": "python",
   "name": "python3"
  },
  "language_info": {
   "codemirror_mode": {
    "name": "ipython",
    "version": 3
   },
   "file_extension": ".py",
   "mimetype": "text/x-python",
   "name": "python",
   "nbconvert_exporter": "python",
   "pygments_lexer": "ipython3",
   "version": "3.6.6"
  }
 },
 "nbformat": 4,
 "nbformat_minor": 2
}
