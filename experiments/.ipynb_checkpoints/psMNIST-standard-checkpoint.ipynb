{
 "cells": [
  {
   "cell_type": "code",
   "execution_count": 1,
   "metadata": {},
   "outputs": [
    {
     "data": {
      "text/html": [
       "<style>.container { width:100% !important; }</style>"
      ],
      "text/plain": [
       "<IPython.core.display.HTML object>"
      ]
     },
     "metadata": {},
     "output_type": "display_data"
    }
   ],
   "source": [
    "%matplotlib inline\n",
    "\n",
    "from IPython.core.display import display, HTML\n",
    "display(HTML(\"<style>.container { width:100% !important; }</style>\"))"
   ]
  },
  {
   "cell_type": "code",
   "execution_count": 2,
   "metadata": {},
   "outputs": [],
   "source": [
    "# Uses the exact data set and permutation from the psMNIST task in\n",
    "# Towards Non-saturating Recurrent Units for Modelling Long-term Dependencies\n",
    "# https://github.com/apsarath/NRU/\n",
    "\n",
    "import os\n",
    "import sys\n",
    "\n",
    "nru_path = os.path.abspath(\"../nru/nru_project\")\n",
    "sys.path.append(nru_path)"
   ]
  },
  {
   "cell_type": "code",
   "execution_count": 3,
   "metadata": {},
   "outputs": [
    {
     "name": "stdout",
     "output_type": "stream",
     "text": [
      "(50000, 784, 1) (50000,)\n",
      "(10000, 784, 1) (10000,)\n",
      "(10000, 784, 1) (10000,)\n"
     ]
    }
   ],
   "source": [
    "import numpy as np\n",
    "\n",
    "from utils.utils import create_config\n",
    "from train import get_data_iterator\n",
    "\n",
    "try:\n",
    "    cwd = os.getcwd()\n",
    "    os.chdir(nru_path)  # needed to load parent config/default.yaml\n",
    "    os.environ[\"PROJ_SAVEDIR\"] = \"/tmp/\"  # this shouldn't do anything\n",
    "    config = create_config(os.path.join(nru_path, \"config/nru.yaml\"))\n",
    "finally:\n",
    "    os.chdir(cwd)\n",
    "\n",
    "padded_length = 785\n",
    "batch_size = 100\n",
    "\n",
    "mask_check = np.zeros((padded_length, batch_size))\n",
    "mask_check[-1, :] = 1\n",
    "\n",
    "from collections import defaultdict\n",
    "X = defaultdict(list)\n",
    "Y = defaultdict(list)\n",
    "\n",
    "gen = get_data_iterator(config)  # uses a fixed data seed\n",
    "for tag in (\"train\", \"valid\", \"test\"):\n",
    "    while True:\n",
    "        data = gen.next(tag)\n",
    "        if data is None:\n",
    "            break\n",
    "\n",
    "        assert data['x'].shape == (padded_length, batch_size, 1)\n",
    "        assert data['y'].shape == data['mask'].shape == (padded_length, batch_size)\n",
    "        assert np.all(data['mask'] == mask_check)\n",
    "        \n",
    "        assert np.all(data['x'][-1, :, :] == 0)\n",
    "        X[tag].extend(data['x'][:-1, :, :].transpose(1, 0, 2))\n",
    "        \n",
    "        assert np.all(data['y'][:-1, :] == 0)\n",
    "        Y[tag].extend(data['y'][-1, :])\n",
    "\n",
    "X_train = np.asarray(X[\"train\"])\n",
    "X_valid = np.asarray(X[\"valid\"])\n",
    "X_test = np.asarray(X[\"test\"])\n",
    "\n",
    "Y_train = np.asarray(Y[\"train\"])\n",
    "Y_valid = np.asarray(Y[\"valid\"])\n",
    "Y_test = np.asarray(Y[\"test\"])\n",
    "\n",
    "print(X_train.shape, Y_train.shape)\n",
    "print(X_valid.shape, Y_valid.shape)\n",
    "print(X_test.shape, Y_test.shape)"
   ]
  },
  {
   "cell_type": "code",
   "execution_count": 4,
   "metadata": {},
   "outputs": [
    {
     "data": {
      "image/png": "[encoded data removed]",
      "text/plain": [
       "<Figure size 432x288 with 2 Axes>"
      ]
     },
     "metadata": {
      "needs_background": "light"
     },
     "output_type": "display_data"
    }
   ],
   "source": [
    "import matplotlib.pyplot as plt\n",
    "import seaborn as sns\n",
    "\n",
    "plt.subplot(111)\n",
    "plt.title(\"Digit = %d\" % Y_train[1])\n",
    "plt.imshow(X_train[1].reshape(28, 28))\n",
    "plt.colorbar()\n",
    "plt.show()"
   ]
  },
  {
   "cell_type": "code",
   "execution_count": 5,
   "metadata": {},
   "outputs": [
    {
     "name": "stderr",
     "output_type": "stream",
     "text": [
      "Using TensorFlow backend.\n"
     ]
    }
   ],
   "source": [
    "from lmu import LMUCell\n",
    "\n",
    "from keras.callbacks import EarlyStopping, ModelCheckpoint\n",
    "from keras.layers.core import Dense\n",
    "from keras.layers.recurrent import RNN\n",
    "from keras.models import Sequential, Model\n",
    "from keras.initializers import Constant\n",
    "from keras.utils import multi_gpu_model, to_categorical"
   ]
  },
  {
   "cell_type": "code",
   "execution_count": 6,
   "metadata": {},
   "outputs": [],
   "source": [
    "seed = 0  # to help with reproducibility\n",
    "\n",
    "from tensorflow import set_random_seed\n",
    "set_random_seed(seed=seed)\n",
    "np.random.seed(seed=seed)"
   ]
  },
  {
   "cell_type": "code",
   "execution_count": 7,
   "metadata": {},
   "outputs": [
    {
     "name": "stdout",
     "output_type": "stream",
     "text": [
      "_________________________________________________________________\n",
      "Layer (type)                 Output Shape              Param #   \n",
      "=================================================================\n",
      "rnn_1 (RNN)                  (None, 212)               165689    \n",
      "_________________________________________________________________\n",
      "dense_1 (Dense)              (None, 10)                2130      \n",
      "=================================================================\n",
      "Total params: 167,819\n",
      "Trainable params: 102,027\n",
      "Non-trainable params: 65,792\n",
      "_________________________________________________________________\n"
     ]
    }
   ],
   "source": [
    "n_pixels = padded_length - 1\n",
    "assert n_pixels == 28**2\n",
    "\n",
    "def lmu_layer(**kwargs):\n",
    "    return RNN(LMUCell(units=212,\n",
    "                       order=256,\n",
    "                       theta=n_pixels,\n",
    "                       input_encoders_initializer=Constant(1),\n",
    "                       hidden_encoders_initializer=Constant(0),\n",
    "                       memory_encoders_initializer=Constant(0),\n",
    "                       input_kernel_initializer=Constant(0),\n",
    "                       hidden_kernel_initializer=Constant(0),\n",
    "                       memory_kernel_initializer='glorot_normal',\n",
    "                      ),\n",
    "               return_sequences=False,\n",
    "               **kwargs)\n",
    "\n",
    "model = Sequential()\n",
    "model.add(lmu_layer(\n",
    "    input_shape=X_train.shape[1:],  # (nr. of pixels, 1)\n",
    "))\n",
    "model.add(Dense(10, activation='softmax'))\n",
    "\n",
    "# model = multi_gpu_model(model, gpus=4)\n",
    "\n",
    "model.compile(loss=\"categorical_crossentropy\", optimizer='adam', metrics=['accuracy'])\n",
    "model.summary()"
   ]
  },
  {
   "cell_type": "code",
   "execution_count": 8,
   "metadata": {
    "scrolled": false
   },
   "outputs": [
    {
     "name": "stdout",
     "output_type": "stream",
     "text": [
      "Train on 50000 samples, validate on 10000 samples\n",
      "Epoch 1/10\n",
      "50000/50000 [==============================] - 469s 9ms/step - loss: 0.4457 - acc: 0.8692 - val_loss: 0.2937 - val_acc: 0.9126\n",
      "\n",
      "Epoch 00001: val_loss improved from inf to 0.29371, saving model to ../models/psMNIST-standard.hdf5\n",
      "Epoch 2/10\n",
      "50000/50000 [==============================] - 471s 9ms/step - loss: 0.2499 - acc: 0.9245 - val_loss: 0.2054 - val_acc: 0.9386\n",
      "\n",
      "Epoch 00002: val_loss improved from 0.29371 to 0.20544, saving model to ../models/psMNIST-standard.hdf5\n",
      "Epoch 3/10\n",
      "50000/50000 [==============================] - 473s 9ms/step - loss: 0.1695 - acc: 0.9482 - val_loss: 0.1587 - val_acc: 0.9513\n",
      "\n",
      "Epoch 00003: val_loss improved from 0.20544 to 0.15867, saving model to ../models/psMNIST-standard.hdf5\n",
      "Epoch 4/10\n",
      "50000/50000 [==============================] - 467s 9ms/step - loss: 0.1255 - acc: 0.9605 - val_loss: 0.1525 - val_acc: 0.9526\n",
      "\n",
      "Epoch 00004: val_loss improved from 0.15867 to 0.15250, saving model to ../models/psMNIST-standard.hdf5\n",
      "Epoch 5/10\n",
      "50000/50000 [==============================] - 466s 9ms/step - loss: 0.0994 - acc: 0.9695 - val_loss: 0.1176 - val_acc: 0.9628\n",
      "\n",
      "Epoch 00005: val_loss improved from 0.15250 to 0.11761, saving model to ../models/psMNIST-standard.hdf5\n",
      "Epoch 6/10\n",
      "50000/50000 [==============================] - 480s 10ms/step - loss: 0.0790 - acc: 0.9754 - val_loss: 0.1210 - val_acc: 0.9645\n",
      "\n",
      "Epoch 00006: val_loss did not improve from 0.11761\n",
      "Epoch 7/10\n",
      "50000/50000 [==============================] - 472s 9ms/step - loss: 0.0628 - acc: 0.9812 - val_loss: 0.1162 - val_acc: 0.9645\n",
      "\n",
      "Epoch 00007: val_loss improved from 0.11761 to 0.11620, saving model to ../models/psMNIST-standard.hdf5\n",
      "Epoch 8/10\n",
      "50000/50000 [==============================] - 472s 9ms/step - loss: 0.0518 - acc: 0.9835 - val_loss: 0.1128 - val_acc: 0.9655\n",
      "\n",
      "Epoch 00008: val_loss improved from 0.11620 to 0.11284, saving model to ../models/psMNIST-standard.hdf5\n",
      "Epoch 9/10\n",
      "50000/50000 [==============================] - 470s 9ms/step - loss: 0.0377 - acc: 0.9887 - val_loss: 0.1081 - val_acc: 0.9697\n",
      "\n",
      "Epoch 00009: val_loss improved from 0.11284 to 0.10808, saving model to ../models/psMNIST-standard.hdf5\n",
      "Epoch 10/10\n",
      "50000/50000 [==============================] - 457s 9ms/step - loss: 0.0332 - acc: 0.9898 - val_loss: 0.1211 - val_acc: 0.9659\n",
      "\n",
      "Epoch 00010: val_loss did not improve from 0.10808\n",
      "Took 78.27 min\n"
     ]
    }
   ],
   "source": [
    "import time\n",
    "\n",
    "epochs = 10\n",
    "fname = \"../models/psMNIST-standard.hdf5\"\n",
    "\n",
    "callbacks = [\n",
    "    # CSVLogger('log-ctn19-pmnist-dn-090419.csv', append=True, separator=';')\n",
    "    # EarlyStopping(monitor='val_loss', min_delta=1e-6, patience=5),\n",
    "    ModelCheckpoint(filepath=fname, monitor='val_loss', verbose=1, save_best_only=True),\n",
    "]\n",
    "\n",
    "t = time.time()\n",
    "\n",
    "result = model.fit(\n",
    "    X_train,\n",
    "    to_categorical(Y_train),\n",
    "    epochs=epochs,\n",
    "    batch_size=batch_size,\n",
    "    validation_data=(X_valid, to_categorical(Y_valid)),\n",
    "    callbacks=callbacks,\n",
    ")\n",
    "\n",
    "print(\"Took {:.2f} min\".format((time.time() - t) / 60))"
   ]
  },
  {
   "cell_type": "code",
   "execution_count": 9,
   "metadata": {},
   "outputs": [
    {
     "data": {
      "image/png": "[encoded data removed]",
      "text/plain": [
       "<Figure size 432x288 with 1 Axes>"
      ]
     },
     "metadata": {
      "needs_background": "light"
     },
     "output_type": "display_data"
    }
   ],
   "source": [
    "plt.figure()\n",
    "plt.plot(result.history['val_acc'], label=\"Validation\")\n",
    "plt.plot(result.history['acc'], label=\"Training\")\n",
    "plt.legend()\n",
    "plt.xlabel(\"Epoch\")\n",
    "plt.ylabel(\"Accuracy\")\n",
    "plt.title(\"psMNIST - LMU\")\n",
    "plt.show()"
   ]
  },
  {
   "cell_type": "code",
   "execution_count": 10,
   "metadata": {},
   "outputs": [
    {
     "data": {
      "text/plain": [
       "0.9697000074386597"
      ]
     },
     "execution_count": 10,
     "metadata": {},
     "output_type": "execute_result"
    }
   ],
   "source": [
    "saved_epoch = np.argmin(result.history['val_loss'])\n",
    "result.history['val_acc'][saved_epoch]"
   ]
  },
  {
   "cell_type": "code",
   "execution_count": 11,
   "metadata": {},
   "outputs": [],
   "source": [
    "model.load_weights(fname)  # load best weights"
   ]
  },
  {
   "cell_type": "code",
   "execution_count": 12,
   "metadata": {},
   "outputs": [
    {
     "name": "stdout",
     "output_type": "stream",
     "text": [
      "10000/10000 [==============================] - 53s 5ms/step\n"
     ]
    },
    {
     "data": {
      "text/plain": [
       "[0.09251588559895754, 0.9715]"
      ]
     },
     "execution_count": 12,
     "metadata": {},
     "output_type": "execute_result"
    }
   ],
   "source": [
    "model.evaluate(X_test, to_categorical(Y_test))"
   ]
  },
  {
   "cell_type": "code",
   "execution_count": 13,
   "metadata": {},
   "outputs": [],
   "source": [
    "import pickle\n",
    "with open('psMNIST-standard.pkl', 'wb') as f:\n",
    "    pickle.dump(result, f)"
   ]
  },
  {
   "cell_type": "code",
   "execution_count": 40,
   "metadata": {},
   "outputs": [
    {
     "name": "stdout",
     "output_type": "stream",
     "text": [
      "_________________________________________________________________\n",
      "Layer (type)                 Output Shape              Param #   \n",
      "=================================================================\n",
      "dense_23 (Dense)             (None, 10)                7850      \n",
      "=================================================================\n",
      "Total params: 7,850\n",
      "Trainable params: 7,850\n",
      "Non-trainable params: 0\n",
      "_________________________________________________________________\n"
     ]
    }
   ],
   "source": [
    "baseline = Sequential()\n",
    "baseline.add(Dense(10, input_dim=n_pixels, activation='softmax'))\n",
    "\n",
    "# model = multi_gpu_model(model, gpus=4)\n",
    "\n",
    "baseline.compile(loss=\"categorical_crossentropy\", optimizer='adam', metrics=['accuracy'])\n",
    "baseline.summary()"
   ]
  },
  {
   "cell_type": "code",
   "execution_count": 41,
   "metadata": {
    "scrolled": false
   },
   "outputs": [
    {
     "name": "stdout",
     "output_type": "stream",
     "text": [
      "Train on 50000 samples, validate on 10000 samples\n",
      "Epoch 1/30\n",
      "50000/50000 [==============================] - 2s 32us/step - loss: 0.6778 - acc: 0.8316 - val_loss: 0.4148 - val_acc: 0.8895\n",
      "\n",
      "Epoch 00001: val_loss improved from inf to 0.41477, saving model to ../models/psMNIST-baseline.hdf5\n",
      "Epoch 2/30\n",
      "50000/50000 [==============================] - 1s 19us/step - loss: 0.3622 - acc: 0.9030 - val_loss: 0.3483 - val_acc: 0.9051\n",
      "\n",
      "Epoch 00002: val_loss improved from 0.41477 to 0.34830, saving model to ../models/psMNIST-baseline.hdf5\n",
      "Epoch 3/30\n",
      "50000/50000 [==============================] - 1s 23us/step - loss: 0.3195 - acc: 0.9121 - val_loss: 0.3209 - val_acc: 0.9109\n",
      "\n",
      "Epoch 00003: val_loss improved from 0.34830 to 0.32094, saving model to ../models/psMNIST-baseline.hdf5\n",
      "Epoch 4/30\n",
      "50000/50000 [==============================] - 1s 20us/step - loss: 0.2995 - acc: 0.9170 - val_loss: 0.3081 - val_acc: 0.9128\n",
      "\n",
      "Epoch 00004: val_loss improved from 0.32094 to 0.30815, saving model to ../models/psMNIST-baseline.hdf5\n",
      "Epoch 5/30\n",
      "50000/50000 [==============================] - 1s 19us/step - loss: 0.2874 - acc: 0.9207 - val_loss: 0.2982 - val_acc: 0.9157\n",
      "\n",
      "Epoch 00005: val_loss improved from 0.30815 to 0.29821, saving model to ../models/psMNIST-baseline.hdf5\n",
      "Epoch 6/30\n",
      "50000/50000 [==============================] - 1s 21us/step - loss: 0.2796 - acc: 0.9221 - val_loss: 0.2951 - val_acc: 0.9185\n",
      "\n",
      "Epoch 00006: val_loss improved from 0.29821 to 0.29511, saving model to ../models/psMNIST-baseline.hdf5\n",
      "Epoch 7/30\n",
      "50000/50000 [==============================] - 1s 20us/step - loss: 0.2730 - acc: 0.9239 - val_loss: 0.2878 - val_acc: 0.9201\n",
      "\n",
      "Epoch 00007: val_loss improved from 0.29511 to 0.28778, saving model to ../models/psMNIST-baseline.hdf5\n",
      "Epoch 8/30\n",
      "50000/50000 [==============================] - 1s 19us/step - loss: 0.2685 - acc: 0.9252 - val_loss: 0.2872 - val_acc: 0.9203\n",
      "\n",
      "Epoch 00008: val_loss improved from 0.28778 to 0.28721, saving model to ../models/psMNIST-baseline.hdf5\n",
      "Epoch 9/30\n",
      "50000/50000 [==============================] - 1s 19us/step - loss: 0.2645 - acc: 0.9262 - val_loss: 0.2838 - val_acc: 0.9212\n",
      "\n",
      "Epoch 00009: val_loss improved from 0.28721 to 0.28381, saving model to ../models/psMNIST-baseline.hdf5\n",
      "Epoch 10/30\n",
      "50000/50000 [==============================] - 1s 19us/step - loss: 0.2614 - acc: 0.9275 - val_loss: 0.2818 - val_acc: 0.9218\n",
      "\n",
      "Epoch 00010: val_loss improved from 0.28381 to 0.28177, saving model to ../models/psMNIST-baseline.hdf5\n",
      "Epoch 11/30\n",
      "50000/50000 [==============================] - 1s 19us/step - loss: 0.2582 - acc: 0.9276 - val_loss: 0.2815 - val_acc: 0.9217\n",
      "\n",
      "Epoch 00011: val_loss improved from 0.28177 to 0.28151, saving model to ../models/psMNIST-baseline.hdf5\n",
      "Epoch 12/30\n",
      "50000/50000 [==============================] - 1s 19us/step - loss: 0.2555 - acc: 0.9288 - val_loss: 0.2801 - val_acc: 0.9216\n",
      "\n",
      "Epoch 00012: val_loss improved from 0.28151 to 0.28006, saving model to ../models/psMNIST-baseline.hdf5\n",
      "Epoch 13/30\n",
      "50000/50000 [==============================] - 1s 22us/step - loss: 0.2536 - acc: 0.9288 - val_loss: 0.2786 - val_acc: 0.9227\n",
      "\n",
      "Epoch 00013: val_loss improved from 0.28006 to 0.27856, saving model to ../models/psMNIST-baseline.hdf5\n",
      "Epoch 14/30\n",
      "50000/50000 [==============================] - 1s 22us/step - loss: 0.2519 - acc: 0.9307 - val_loss: 0.2777 - val_acc: 0.9230\n",
      "\n",
      "Epoch 00014: val_loss improved from 0.27856 to 0.27768, saving model to ../models/psMNIST-baseline.hdf5\n",
      "Epoch 15/30\n",
      "50000/50000 [==============================] - 1s 27us/step - loss: 0.2500 - acc: 0.9312 - val_loss: 0.2775 - val_acc: 0.9231\n",
      "\n",
      "Epoch 00015: val_loss improved from 0.27768 to 0.27746, saving model to ../models/psMNIST-baseline.hdf5\n",
      "Epoch 16/30\n",
      "50000/50000 [==============================] - 1s 19us/step - loss: 0.2484 - acc: 0.9308 - val_loss: 0.2772 - val_acc: 0.9227\n",
      "\n",
      "Epoch 00016: val_loss improved from 0.27746 to 0.27721, saving model to ../models/psMNIST-baseline.hdf5\n",
      "Epoch 17/30\n",
      "50000/50000 [==============================] - 1s 17us/step - loss: 0.2470 - acc: 0.9313 - val_loss: 0.2767 - val_acc: 0.9232\n",
      "\n",
      "Epoch 00017: val_loss improved from 0.27721 to 0.27669, saving model to ../models/psMNIST-baseline.hdf5\n",
      "Epoch 18/30\n",
      "50000/50000 [==============================] - 1s 18us/step - loss: 0.2454 - acc: 0.9324 - val_loss: 0.2772 - val_acc: 0.9240\n",
      "\n",
      "Epoch 00018: val_loss did not improve from 0.27669\n",
      "Epoch 19/30\n",
      "50000/50000 [==============================] - 1s 18us/step - loss: 0.2444 - acc: 0.9318 - val_loss: 0.2794 - val_acc: 0.9226\n",
      "\n",
      "Epoch 00019: val_loss did not improve from 0.27669\n",
      "Epoch 20/30\n",
      "50000/50000 [==============================] - 1s 19us/step - loss: 0.2432 - acc: 0.9329 - val_loss: 0.2768 - val_acc: 0.9225\n",
      "\n",
      "Epoch 00020: val_loss did not improve from 0.27669\n",
      "Epoch 21/30\n",
      "50000/50000 [==============================] - 1s 20us/step - loss: 0.2423 - acc: 0.9336 - val_loss: 0.2778 - val_acc: 0.9234\n",
      "\n",
      "Epoch 00021: val_loss did not improve from 0.27669\n",
      "Epoch 22/30\n",
      "50000/50000 [==============================] - 1s 19us/step - loss: 0.2406 - acc: 0.9337 - val_loss: 0.2780 - val_acc: 0.9230\n",
      "\n",
      "Epoch 00022: val_loss did not improve from 0.27669\n",
      "Epoch 23/30\n",
      "50000/50000 [==============================] - 1s 18us/step - loss: 0.2402 - acc: 0.9335 - val_loss: 0.2766 - val_acc: 0.9224\n",
      "\n",
      "Epoch 00023: val_loss improved from 0.27669 to 0.27661, saving model to ../models/psMNIST-baseline.hdf5\n",
      "Epoch 24/30\n",
      "50000/50000 [==============================] - 1s 15us/step - loss: 0.2391 - acc: 0.9346 - val_loss: 0.2765 - val_acc: 0.9224\n",
      "\n",
      "Epoch 00024: val_loss improved from 0.27661 to 0.27653, saving model to ../models/psMNIST-baseline.hdf5\n",
      "Epoch 25/30\n",
      "50000/50000 [==============================] - 1s 24us/step - loss: 0.2384 - acc: 0.9337 - val_loss: 0.2762 - val_acc: 0.9237\n",
      "\n",
      "Epoch 00025: val_loss improved from 0.27653 to 0.27619, saving model to ../models/psMNIST-baseline.hdf5\n",
      "Epoch 26/30\n",
      "50000/50000 [==============================] - 1s 21us/step - loss: 0.2377 - acc: 0.9338 - val_loss: 0.2777 - val_acc: 0.9231\n",
      "\n",
      "Epoch 00026: val_loss did not improve from 0.27619\n",
      "Epoch 27/30\n",
      "50000/50000 [==============================] - 1s 21us/step - loss: 0.2369 - acc: 0.9343 - val_loss: 0.2781 - val_acc: 0.9233\n",
      "\n",
      "Epoch 00027: val_loss did not improve from 0.27619\n",
      "Epoch 28/30\n",
      "50000/50000 [==============================] - 1s 19us/step - loss: 0.2363 - acc: 0.9350 - val_loss: 0.2788 - val_acc: 0.9228\n",
      "\n",
      "Epoch 00028: val_loss did not improve from 0.27619\n",
      "Epoch 29/30\n",
      "50000/50000 [==============================] - 1s 17us/step - loss: 0.2359 - acc: 0.9345 - val_loss: 0.2765 - val_acc: 0.9241\n",
      "\n",
      "Epoch 00029: val_loss did not improve from 0.27619\n",
      "Epoch 30/30\n",
      "50000/50000 [==============================] - 1s 23us/step - loss: 0.2349 - acc: 0.9351 - val_loss: 0.2775 - val_acc: 0.9225\n",
      "\n",
      "Epoch 00030: val_loss did not improve from 0.27619\n",
      "Took 0.52 min\n"
     ]
    }
   ],
   "source": [
    "epochs = 30\n",
    "fname = \"../models/psMNIST-baseline.hdf5\"\n",
    "\n",
    "callbacks = [\n",
    "    ModelCheckpoint(filepath=fname, monitor='val_loss', verbose=1, save_best_only=True),\n",
    "]\n",
    "\n",
    "t = time.time()\n",
    "\n",
    "result = baseline.fit(\n",
    "    X_train.squeeze(axis=2),\n",
    "    to_categorical(Y_train),\n",
    "    epochs=epochs,\n",
    "    batch_size=batch_size,\n",
    "    validation_data=(X_valid.squeeze(axis=2), to_categorical(Y_valid)),\n",
    "    callbacks=callbacks,\n",
    ")\n",
    "\n",
    "print(\"Took {:.2f} min\".format((time.time() - t) / 60))"
   ]
  },
  {
   "cell_type": "code",
   "execution_count": 44,
   "metadata": {},
   "outputs": [
    {
     "data": {
      "text/plain": [
       "0.9237000042200089"
      ]
     },
     "execution_count": 44,
     "metadata": {},
     "output_type": "execute_result"
    }
   ],
   "source": [
    "saved_epoch = np.argmin(result.history['val_loss'])\n",
    "result.history['val_acc'][saved_epoch]"
   ]
  },
  {
   "cell_type": "code",
   "execution_count": 42,
   "metadata": {},
   "outputs": [],
   "source": [
    "baseline.load_weights(fname)  # load best weights"
   ]
  },
  {
   "cell_type": "code",
   "execution_count": 43,
   "metadata": {},
   "outputs": [
    {
     "name": "stdout",
     "output_type": "stream",
     "text": [
      "10000/10000 [==============================] - 0s 25us/step\n"
     ]
    },
    {
     "data": {
      "text/plain": [
       "[0.2670990565598011, 0.9265]"
      ]
     },
     "execution_count": 43,
     "metadata": {},
     "output_type": "execute_result"
    }
   ],
   "source": [
    "baseline.evaluate(X_test.squeeze(axis=2), to_categorical(Y_test))"
   ]
  },
  {
   "cell_type": "code",
   "execution_count": null,
   "metadata": {},
   "outputs": [],
   "source": []
  }
 ],
 "metadata": {
  "kernelspec": {
   "display_name": "Python 3",
   "language": "python",
   "name": "python3"
  },
  "language_info": {
   "codemirror_mode": {
    "name": "ipython",
    "version": 3
   },
   "file_extension": ".py",
   "mimetype": "text/x-python",
   "name": "python",
   "nbconvert_exporter": "python",
   "pygments_lexer": "ipython3",
   "version": "3.7.5"
  }
 },
 "nbformat": 4,
 "nbformat_minor": 2
}
